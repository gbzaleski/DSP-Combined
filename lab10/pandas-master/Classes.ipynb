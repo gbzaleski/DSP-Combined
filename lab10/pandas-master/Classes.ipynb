{
 "cells": [
  {
   "cell_type": "code",
   "execution_count": 1,
   "metadata": {},
   "outputs": [],
   "source": [
    "import pandas as pd"
   ]
  },
  {
   "cell_type": "markdown",
   "metadata": {},
   "source": [
    "# Reading Data\n",
    "\n",
    "* `pd.read_csv` – read data from csv file: [documentation](https://pandas.pydata.org/docs/reference/api/pandas.read_csv.html)\n",
    "* `pd.read_excel` – read data from excel file: [documentation](https://pandas.pydata.org/docs/reference/api/pandas.read_excel.html)"
   ]
  },
  {
   "cell_type": "markdown",
   "metadata": {},
   "source": [
    "## Exercise 1\n",
    "Read the data from `data/iris.csv` and assign it to the `iris` variable; preview the variable in notebook "
   ]
  },
  {
   "cell_type": "code",
   "execution_count": 2,
   "metadata": {},
   "outputs": [
    {
     "data": {
      "text/html": [
       "<div>\n",
       "<style scoped>\n",
       "    .dataframe tbody tr th:only-of-type {\n",
       "        vertical-align: middle;\n",
       "    }\n",
       "\n",
       "    .dataframe tbody tr th {\n",
       "        vertical-align: top;\n",
       "    }\n",
       "\n",
       "    .dataframe thead th {\n",
       "        text-align: right;\n",
       "    }\n",
       "</style>\n",
       "<table border=\"1\" class=\"dataframe\">\n",
       "  <thead>\n",
       "    <tr style=\"text-align: right;\">\n",
       "      <th></th>\n",
       "      <th>sepal.length</th>\n",
       "      <th>sepal.width</th>\n",
       "      <th>petal.length</th>\n",
       "      <th>petal.width</th>\n",
       "      <th>variety</th>\n",
       "    </tr>\n",
       "  </thead>\n",
       "  <tbody>\n",
       "    <tr>\n",
       "      <th>0</th>\n",
       "      <td>5.1</td>\n",
       "      <td>3.5</td>\n",
       "      <td>1.4</td>\n",
       "      <td>0.2</td>\n",
       "      <td>Setosa</td>\n",
       "    </tr>\n",
       "    <tr>\n",
       "      <th>1</th>\n",
       "      <td>4.9</td>\n",
       "      <td>3.0</td>\n",
       "      <td>1.4</td>\n",
       "      <td>0.2</td>\n",
       "      <td>Setosa</td>\n",
       "    </tr>\n",
       "    <tr>\n",
       "      <th>2</th>\n",
       "      <td>4.7</td>\n",
       "      <td>3.2</td>\n",
       "      <td>1.3</td>\n",
       "      <td>0.2</td>\n",
       "      <td>Setosa</td>\n",
       "    </tr>\n",
       "    <tr>\n",
       "      <th>3</th>\n",
       "      <td>4.6</td>\n",
       "      <td>3.1</td>\n",
       "      <td>1.5</td>\n",
       "      <td>0.2</td>\n",
       "      <td>Setosa</td>\n",
       "    </tr>\n",
       "    <tr>\n",
       "      <th>4</th>\n",
       "      <td>5.0</td>\n",
       "      <td>3.6</td>\n",
       "      <td>1.4</td>\n",
       "      <td>0.2</td>\n",
       "      <td>Setosa</td>\n",
       "    </tr>\n",
       "  </tbody>\n",
       "</table>\n",
       "</div>"
      ],
      "text/plain": [
       "   sepal.length  sepal.width  petal.length  petal.width variety\n",
       "0           5.1          3.5           1.4          0.2  Setosa\n",
       "1           4.9          3.0           1.4          0.2  Setosa\n",
       "2           4.7          3.2           1.3          0.2  Setosa\n",
       "3           4.6          3.1           1.5          0.2  Setosa\n",
       "4           5.0          3.6           1.4          0.2  Setosa"
      ]
     },
     "execution_count": 2,
     "metadata": {},
     "output_type": "execute_result"
    }
   ],
   "source": [
    "iris = pd.read_csv('data/iris.csv')\n",
    "iris.head()"
   ]
  },
  {
   "cell_type": "code",
   "execution_count": null,
   "metadata": {},
   "outputs": [],
   "source": []
  },
  {
   "cell_type": "markdown",
   "metadata": {},
   "source": [
    "## Exercise 2\n",
    "Read data from `data/iris_modified.csv`."
   ]
  },
  {
   "cell_type": "code",
   "execution_count": 3,
   "metadata": {},
   "outputs": [
    {
     "data": {
      "text/html": [
       "<div>\n",
       "<style scoped>\n",
       "    .dataframe tbody tr th:only-of-type {\n",
       "        vertical-align: middle;\n",
       "    }\n",
       "\n",
       "    .dataframe tbody tr th {\n",
       "        vertical-align: top;\n",
       "    }\n",
       "\n",
       "    .dataframe thead th {\n",
       "        text-align: right;\n",
       "    }\n",
       "</style>\n",
       "<table border=\"1\" class=\"dataframe\">\n",
       "  <thead>\n",
       "    <tr style=\"text-align: right;\">\n",
       "      <th></th>\n",
       "      <th>sepal.length</th>\n",
       "      <th>sepal.width</th>\n",
       "      <th>petal.length</th>\n",
       "      <th>petal.width</th>\n",
       "      <th>variety</th>\n",
       "    </tr>\n",
       "  </thead>\n",
       "  <tbody>\n",
       "    <tr>\n",
       "      <th>0</th>\n",
       "      <td>5.1</td>\n",
       "      <td>3.5</td>\n",
       "      <td>1.4</td>\n",
       "      <td>0.2</td>\n",
       "      <td>Setosa</td>\n",
       "    </tr>\n",
       "    <tr>\n",
       "      <th>1</th>\n",
       "      <td>4.9</td>\n",
       "      <td>3.0</td>\n",
       "      <td>1.4</td>\n",
       "      <td>0.2</td>\n",
       "      <td>Setosa</td>\n",
       "    </tr>\n",
       "    <tr>\n",
       "      <th>2</th>\n",
       "      <td>4.7</td>\n",
       "      <td>3.2</td>\n",
       "      <td>1.3</td>\n",
       "      <td>0.2</td>\n",
       "      <td>Setosa</td>\n",
       "    </tr>\n",
       "    <tr>\n",
       "      <th>3</th>\n",
       "      <td>4.6</td>\n",
       "      <td>3.1</td>\n",
       "      <td>1.5</td>\n",
       "      <td>0.2</td>\n",
       "      <td>Setosa</td>\n",
       "    </tr>\n",
       "    <tr>\n",
       "      <th>4</th>\n",
       "      <td>5.0</td>\n",
       "      <td>3.6</td>\n",
       "      <td>1.4</td>\n",
       "      <td>0.2</td>\n",
       "      <td>Setosa</td>\n",
       "    </tr>\n",
       "  </tbody>\n",
       "</table>\n",
       "</div>"
      ],
      "text/plain": [
       "   sepal.length  sepal.width  petal.length  petal.width variety\n",
       "0           5.1          3.5           1.4          0.2  Setosa\n",
       "1           4.9          3.0           1.4          0.2  Setosa\n",
       "2           4.7          3.2           1.3          0.2  Setosa\n",
       "3           4.6          3.1           1.5          0.2  Setosa\n",
       "4           5.0          3.6           1.4          0.2  Setosa"
      ]
     },
     "execution_count": 3,
     "metadata": {},
     "output_type": "execute_result"
    }
   ],
   "source": [
    "iris_mod = pd.read_csv('data/iris_modified.csv', sep=';')\n",
    "iris_mod.head()"
   ]
  },
  {
   "cell_type": "markdown",
   "metadata": {},
   "source": [
    "## Exercise 3\n",
    "Save the `iris` DataFrame to the `iris.xlsx` file (sheet name `iris`). See [to_excel](https://pandas.pydata.org/docs/reference/api/pandas.DataFrame.to_excel.html). (May need to install `openpyxl` package)"
   ]
  },
  {
   "cell_type": "code",
   "execution_count": 4,
   "metadata": {},
   "outputs": [
    {
     "name": "stdout",
     "output_type": "stream",
     "text": [
      "Defaulting to user installation because normal site-packages is not writeable\n",
      "Requirement already satisfied: openpyxl in /home/gbz/.local/lib/python3.10/site-packages (3.0.10)\n",
      "Requirement already satisfied: et-xmlfile in /home/gbz/.local/lib/python3.10/site-packages (from openpyxl) (1.1.0)\n"
     ]
    }
   ],
   "source": [
    "!pip install openpyxl\n",
    "iris.to_excel(r'iris_x.xlsx', index=False)"
   ]
  },
  {
   "cell_type": "code",
   "execution_count": 5,
   "metadata": {},
   "outputs": [],
   "source": [
    "iris.to_excel(r'iris_x.xlsx', index=False)"
   ]
  },
  {
   "cell_type": "markdown",
   "metadata": {},
   "source": [
    "## Exercise 4*\n",
    "Read data from the `miakob` sheet in `data/tablica_a._tablica_trwania_zycia_2019.xlsx`. \n",
    "\n",
    "(May need to install `openpyxl` package and specify it as `engine` in order to work)"
   ]
  },
  {
   "cell_type": "code",
   "execution_count": 6,
   "metadata": {},
   "outputs": [
    {
     "data": {
      "text/html": [
       "<div>\n",
       "<style scoped>\n",
       "    .dataframe tbody tr th:only-of-type {\n",
       "        vertical-align: middle;\n",
       "    }\n",
       "\n",
       "    .dataframe tbody tr th {\n",
       "        vertical-align: top;\n",
       "    }\n",
       "\n",
       "    .dataframe thead th {\n",
       "        text-align: right;\n",
       "    }\n",
       "</style>\n",
       "<table border=\"1\" class=\"dataframe\">\n",
       "  <thead>\n",
       "    <tr style=\"text-align: right;\">\n",
       "      <th></th>\n",
       "      <th>TABL. A.   TABLICA TRWANIA ŻYCIA 2019</th>\n",
       "      <th>Unnamed: 1</th>\n",
       "      <th>Unnamed: 2</th>\n",
       "      <th>Unnamed: 3</th>\n",
       "      <th>Unnamed: 4</th>\n",
       "      <th>Unnamed: 5</th>\n",
       "      <th>Unnamed: 6</th>\n",
       "    </tr>\n",
       "  </thead>\n",
       "  <tbody>\n",
       "    <tr>\n",
       "      <th>0</th>\n",
       "      <td>NaN</td>\n",
       "      <td>LIFE TABLE OF POLAND 2019</td>\n",
       "      <td>NaN</td>\n",
       "      <td>NaN</td>\n",
       "      <td>NaN</td>\n",
       "      <td>NaN</td>\n",
       "      <td>NaN</td>\n",
       "    </tr>\n",
       "    <tr>\n",
       "      <th>1</th>\n",
       "      <td>NaN</td>\n",
       "      <td>NaN</td>\n",
       "      <td>NaN</td>\n",
       "      <td>NaN</td>\n",
       "      <td>NaN</td>\n",
       "      <td>NaN</td>\n",
       "      <td>NaN</td>\n",
       "    </tr>\n",
       "    <tr>\n",
       "      <th>2</th>\n",
       "      <td>Wiek   Age</td>\n",
       "      <td>Liczba dożywających   Number              of s...</td>\n",
       "      <td>Prawdopodobień-stwo zgonu  Probability of dying</td>\n",
       "      <td>Liczba zmarłych  Number deceased</td>\n",
       "      <td>Ludność stacjonarna  Stationary population</td>\n",
       "      <td>NaN</td>\n",
       "      <td>Przeciętne dalsze trwanie życia        Life ex...</td>\n",
       "    </tr>\n",
       "    <tr>\n",
       "      <th>3</th>\n",
       "      <td>NaN</td>\n",
       "      <td>NaN</td>\n",
       "      <td>NaN</td>\n",
       "      <td>NaN</td>\n",
       "      <td>w wieku x   at age x</td>\n",
       "      <td>skumulowana cumulated</td>\n",
       "      <td>NaN</td>\n",
       "    </tr>\n",
       "    <tr>\n",
       "      <th>4</th>\n",
       "      <td>x</td>\n",
       "      <td>lx</td>\n",
       "      <td>qx</td>\n",
       "      <td>dx</td>\n",
       "      <td>Lx</td>\n",
       "      <td>Tx</td>\n",
       "      <td>ex</td>\n",
       "    </tr>\n",
       "    <tr>\n",
       "      <th>...</th>\n",
       "      <td>...</td>\n",
       "      <td>...</td>\n",
       "      <td>...</td>\n",
       "      <td>...</td>\n",
       "      <td>...</td>\n",
       "      <td>...</td>\n",
       "      <td>...</td>\n",
       "    </tr>\n",
       "    <tr>\n",
       "      <th>102</th>\n",
       "      <td>96</td>\n",
       "      <td>3166</td>\n",
       "      <td>0.26384</td>\n",
       "      <td>835</td>\n",
       "      <td>2748.5</td>\n",
       "      <td>8849</td>\n",
       "      <td>2.8</td>\n",
       "    </tr>\n",
       "    <tr>\n",
       "      <th>103</th>\n",
       "      <td>97</td>\n",
       "      <td>2331</td>\n",
       "      <td>0.28267</td>\n",
       "      <td>659</td>\n",
       "      <td>2001.5</td>\n",
       "      <td>6100.5</td>\n",
       "      <td>2.62</td>\n",
       "    </tr>\n",
       "    <tr>\n",
       "      <th>104</th>\n",
       "      <td>98</td>\n",
       "      <td>1672</td>\n",
       "      <td>0.30229</td>\n",
       "      <td>505</td>\n",
       "      <td>1419.5</td>\n",
       "      <td>4099</td>\n",
       "      <td>2.45</td>\n",
       "    </tr>\n",
       "    <tr>\n",
       "      <th>105</th>\n",
       "      <td>99</td>\n",
       "      <td>1167</td>\n",
       "      <td>0.32267</td>\n",
       "      <td>377</td>\n",
       "      <td>978.5</td>\n",
       "      <td>2679.5</td>\n",
       "      <td>2.3</td>\n",
       "    </tr>\n",
       "    <tr>\n",
       "      <th>106</th>\n",
       "      <td>100</td>\n",
       "      <td>790</td>\n",
       "      <td>0.34377</td>\n",
       "      <td>271</td>\n",
       "      <td>655</td>\n",
       "      <td>1701</td>\n",
       "      <td>2.15</td>\n",
       "    </tr>\n",
       "  </tbody>\n",
       "</table>\n",
       "<p>107 rows × 7 columns</p>\n",
       "</div>"
      ],
      "text/plain": [
       "    TABL. A.   TABLICA TRWANIA ŻYCIA 2019  \\\n",
       "0                                     NaN   \n",
       "1                                     NaN   \n",
       "2                              Wiek   Age   \n",
       "3                                     NaN   \n",
       "4                                       x   \n",
       "..                                    ...   \n",
       "102                                    96   \n",
       "103                                    97   \n",
       "104                                    98   \n",
       "105                                    99   \n",
       "106                                   100   \n",
       "\n",
       "                                            Unnamed: 1  \\\n",
       "0                            LIFE TABLE OF POLAND 2019   \n",
       "1                                                  NaN   \n",
       "2    Liczba dożywających   Number              of s...   \n",
       "3                                                  NaN   \n",
       "4                                                   lx   \n",
       "..                                                 ...   \n",
       "102                                               3166   \n",
       "103                                               2331   \n",
       "104                                               1672   \n",
       "105                                               1167   \n",
       "106                                                790   \n",
       "\n",
       "                                          Unnamed: 2  \\\n",
       "0                                                NaN   \n",
       "1                                                NaN   \n",
       "2    Prawdopodobień-stwo zgonu  Probability of dying   \n",
       "3                                                NaN   \n",
       "4                                                 qx   \n",
       "..                                               ...   \n",
       "102                                          0.26384   \n",
       "103                                          0.28267   \n",
       "104                                          0.30229   \n",
       "105                                          0.32267   \n",
       "106                                          0.34377   \n",
       "\n",
       "                           Unnamed: 3  \\\n",
       "0                                 NaN   \n",
       "1                                 NaN   \n",
       "2    Liczba zmarłych  Number deceased   \n",
       "3                                 NaN   \n",
       "4                                  dx   \n",
       "..                                ...   \n",
       "102                               835   \n",
       "103                               659   \n",
       "104                               505   \n",
       "105                               377   \n",
       "106                               271   \n",
       "\n",
       "                                     Unnamed: 4             Unnamed: 5  \\\n",
       "0                                           NaN                    NaN   \n",
       "1                                           NaN                    NaN   \n",
       "2    Ludność stacjonarna  Stationary population                    NaN   \n",
       "3                          w wieku x   at age x  skumulowana cumulated   \n",
       "4                                            Lx                     Tx   \n",
       "..                                          ...                    ...   \n",
       "102                                      2748.5                   8849   \n",
       "103                                      2001.5                 6100.5   \n",
       "104                                      1419.5                   4099   \n",
       "105                                       978.5                 2679.5   \n",
       "106                                         655                   1701   \n",
       "\n",
       "                                            Unnamed: 6  \n",
       "0                                                  NaN  \n",
       "1                                                  NaN  \n",
       "2    Przeciętne dalsze trwanie życia        Life ex...  \n",
       "3                                                  NaN  \n",
       "4                                                   ex  \n",
       "..                                                 ...  \n",
       "102                                                2.8  \n",
       "103                                               2.62  \n",
       "104                                               2.45  \n",
       "105                                                2.3  \n",
       "106                                               2.15  \n",
       "\n",
       "[107 rows x 7 columns]"
      ]
     },
     "execution_count": 6,
     "metadata": {},
     "output_type": "execute_result"
    }
   ],
   "source": [
    "pd.read_excel('data/tablica_a._tablica_trwania_zycia_2019.xlsx')"
   ]
  },
  {
   "cell_type": "markdown",
   "metadata": {},
   "source": [
    "# DataFrame and Series\n",
    "\n",
    "The basic types from `pandas` library are [`DataFrame`](https://pandas.pydata.org/docs/reference/frame.html), for representing tabular data, and [`Series`](https://pandas.pydata.org/docs/reference/series.html) for 1-dimensional data (e.g. columns in `DataFrame`)"
   ]
  },
  {
   "cell_type": "markdown",
   "metadata": {},
   "source": [
    "## Data types\n",
    "`pandas` uses the same types as `numpy`. \n",
    "The following parameters are available:\n",
    "\n",
    "* `dtypes` for `DataFrame`.\n",
    "* `dtype` for `Series`.\n",
    "* Both provide an `astype` method."
   ]
  },
  {
   "cell_type": "code",
   "execution_count": 7,
   "metadata": {},
   "outputs": [
    {
     "data": {
      "text/plain": [
       "sepal.length    float64\n",
       "sepal.width     float64\n",
       "petal.length    float64\n",
       "petal.width     float64\n",
       "variety          object\n",
       "dtype: object"
      ]
     },
     "execution_count": 7,
     "metadata": {},
     "output_type": "execute_result"
    }
   ],
   "source": [
    "iris.dtypes"
   ]
  },
  {
   "cell_type": "code",
   "execution_count": 8,
   "metadata": {},
   "outputs": [
    {
     "data": {
      "text/plain": [
       "dtype('float64')"
      ]
     },
     "execution_count": 8,
     "metadata": {},
     "output_type": "execute_result"
    }
   ],
   "source": [
    "iris[\"sepal.length\"].dtype"
   ]
  },
  {
   "cell_type": "markdown",
   "metadata": {},
   "source": [
    "## Exercise 5\n",
    "Create a copy of the `iris` data frame and change the type of `petal.length` to `float32` "
   ]
  },
  {
   "cell_type": "code",
   "execution_count": 9,
   "metadata": {},
   "outputs": [
    {
     "data": {
      "text/plain": [
       "sepal.length    float64\n",
       "sepal.width     float64\n",
       "petal.length    float32\n",
       "petal.width     float64\n",
       "variety          object\n",
       "dtype: object"
      ]
     },
     "execution_count": 9,
     "metadata": {},
     "output_type": "execute_result"
    }
   ],
   "source": [
    "iris_cop = iris.copy(deep=True)\n",
    "iris_cop['petal.length'] = iris_cop['petal.length'].astype('float32')\n",
    "iris_cop.dtypes"
   ]
  },
  {
   "cell_type": "markdown",
   "metadata": {},
   "source": [
    "# Filtering\n",
    "You can access column data in `pandas` using two different notations: `df.column_name` or `df[\"column_name\"]`.\n",
    "\n",
    "To get multiple columns use the following syntax: `df[list_of_column_names]`."
   ]
  },
  {
   "cell_type": "markdown",
   "metadata": {},
   "source": [
    "## Exercise 6\n",
    "Create a data frame with the `Virginica` variety only and calculate its `mean` value and plot a histogram for each numerical column.\n"
   ]
  },
  {
   "cell_type": "code",
   "execution_count": 10,
   "metadata": {},
   "outputs": [
    {
     "data": {
      "text/plain": [
       "array([[<AxesSubplot:title={'center':'sepal.length'}>,\n",
       "        <AxesSubplot:title={'center':'sepal.width'}>],\n",
       "       [<AxesSubplot:title={'center':'petal.length'}>,\n",
       "        <AxesSubplot:title={'center':'petal.width'}>]], dtype=object)"
      ]
     },
     "execution_count": 10,
     "metadata": {},
     "output_type": "execute_result"
    },
    {
     "data": {
      "image/png": "[encoded data removed]",
      "text/plain": [
       "<Figure size 640x480 with 4 Axes>"
      ]
     },
     "metadata": {},
     "output_type": "display_data"
    }
   ],
   "source": [
    "from matplotlib import pyplot as plt\n",
    "ex6 = iris[iris['variety'] == 'Virginica'].iloc[:, 0:4] #.mean()\n",
    "\n",
    "# print(ex6)\n",
    "# fig, ax = plt.subplots(figsize =(10, 7))\n",
    "# ax.hist(ex6)\n",
    " \n",
    "# # Show plot\n",
    "# plt.show()\n",
    "ex6.hist()"
   ]
  },
  {
   "cell_type": "markdown",
   "metadata": {},
   "source": [
    "## Exercise 7\n",
    "Save the `iris` data frame to `iris2.xlsx`, with split based on variety. Each type should be in a separate sheet with the sheet name the same as variety."
   ]
  },
  {
   "cell_type": "code",
   "execution_count": 11,
   "metadata": {},
   "outputs": [
    {
     "name": "stdout",
     "output_type": "stream",
     "text": [
      "['Setosa', 'Versicolor', 'Virginica']\n",
      "Setosa\n",
      "Versicolor\n",
      "Virginica\n"
     ]
    }
   ],
   "source": [
    "t = [ele for ele in iris['variety'].drop_duplicates()]\n",
    "print(t)\n",
    "for name in t:\n",
    "    print(name)"
   ]
  },
  {
   "cell_type": "markdown",
   "metadata": {},
   "source": [
    "# Creating Data Frame\n",
    "The `pandas` `DataFrame` constructor function is described here: https://pandas.pydata.org/docs/reference/api/pandas.DataFrame.html \n",
    "\n",
    "\n"
   ]
  },
  {
   "cell_type": "markdown",
   "metadata": {},
   "source": [
    "## Exercise 8\n",
    "Create a `Dataframe` from the following data:\n",
    "```\n",
    "data = {\n",
    "       \"sepal.length\": [5.006, 5.936, 6.588],\n",
    "       \"sepal.width\": [3.428, 2.77 , 2.974],\n",
    "       \"petal.length\": [1.462, 4.26 , 5.552],\n",
    "       \"petal.width\": [0.246, 1.326, 2.026],\n",
    "       \"variety\": [\"Setosa\", \"Versicolor\", \"Virginica\"]\n",
    "}\n",
    "```"
   ]
  },
  {
   "cell_type": "code",
   "execution_count": 12,
   "metadata": {},
   "outputs": [
    {
     "data": {
      "text/html": [
       "<div>\n",
       "<style scoped>\n",
       "    .dataframe tbody tr th:only-of-type {\n",
       "        vertical-align: middle;\n",
       "    }\n",
       "\n",
       "    .dataframe tbody tr th {\n",
       "        vertical-align: top;\n",
       "    }\n",
       "\n",
       "    .dataframe thead th {\n",
       "        text-align: right;\n",
       "    }\n",
       "</style>\n",
       "<table border=\"1\" class=\"dataframe\">\n",
       "  <thead>\n",
       "    <tr style=\"text-align: right;\">\n",
       "      <th></th>\n",
       "      <th>sepal.length</th>\n",
       "      <th>sepal.width</th>\n",
       "      <th>petal.length</th>\n",
       "      <th>petal.width</th>\n",
       "      <th>variety</th>\n",
       "    </tr>\n",
       "  </thead>\n",
       "  <tbody>\n",
       "    <tr>\n",
       "      <th>0</th>\n",
       "      <td>5.006</td>\n",
       "      <td>3.428</td>\n",
       "      <td>1.462</td>\n",
       "      <td>0.246</td>\n",
       "      <td>Setosa</td>\n",
       "    </tr>\n",
       "    <tr>\n",
       "      <th>1</th>\n",
       "      <td>5.936</td>\n",
       "      <td>2.770</td>\n",
       "      <td>4.260</td>\n",
       "      <td>1.326</td>\n",
       "      <td>Versicolor</td>\n",
       "    </tr>\n",
       "    <tr>\n",
       "      <th>2</th>\n",
       "      <td>6.588</td>\n",
       "      <td>2.974</td>\n",
       "      <td>5.552</td>\n",
       "      <td>2.026</td>\n",
       "      <td>Virginica</td>\n",
       "    </tr>\n",
       "  </tbody>\n",
       "</table>\n",
       "</div>"
      ],
      "text/plain": [
       "   sepal.length  sepal.width  petal.length  petal.width     variety\n",
       "0         5.006        3.428         1.462        0.246      Setosa\n",
       "1         5.936        2.770         4.260        1.326  Versicolor\n",
       "2         6.588        2.974         5.552        2.026   Virginica"
      ]
     },
     "execution_count": 12,
     "metadata": {},
     "output_type": "execute_result"
    }
   ],
   "source": [
    "data = {\n",
    "       \"sepal.length\": [5.006, 5.936, 6.588],\n",
    "       \"sepal.width\": [3.428, 2.77 , 2.974],\n",
    "       \"petal.length\": [1.462, 4.26 , 5.552],\n",
    "       \"petal.width\": [0.246, 1.326, 2.026],\n",
    "       \"variety\": [\"Setosa\", \"Versicolor\", \"Virginica\"]\n",
    "}\n",
    "pd.DataFrame(data=data)"
   ]
  },
  {
   "cell_type": "markdown",
   "metadata": {},
   "source": [
    "## Exercise 9\n",
    "Create a `Dataframe` from the following data and set proper column names:\n",
    "\n",
    "```\n",
    "[[5.006, 3.428, 1.462, 0.246, 'Setosa'],\n",
    "[5.936, 2.77, 4.26, 1.326, 'Versicolor'],\n",
    "[6.588, 2.974, 5.552, 2.026, 'Virginica']]\n",
    "```"
   ]
  },
  {
   "cell_type": "code",
   "execution_count": 13,
   "metadata": {},
   "outputs": [
    {
     "data": {
      "text/html": [
       "<div>\n",
       "<style scoped>\n",
       "    .dataframe tbody tr th:only-of-type {\n",
       "        vertical-align: middle;\n",
       "    }\n",
       "\n",
       "    .dataframe tbody tr th {\n",
       "        vertical-align: top;\n",
       "    }\n",
       "\n",
       "    .dataframe thead th {\n",
       "        text-align: right;\n",
       "    }\n",
       "</style>\n",
       "<table border=\"1\" class=\"dataframe\">\n",
       "  <thead>\n",
       "    <tr style=\"text-align: right;\">\n",
       "      <th></th>\n",
       "      <th>Length</th>\n",
       "      <th>Width</th>\n",
       "      <th>Length</th>\n",
       "      <th>Width</th>\n",
       "      <th>Variety</th>\n",
       "    </tr>\n",
       "  </thead>\n",
       "  <tbody>\n",
       "    <tr>\n",
       "      <th>0</th>\n",
       "      <td>5.006</td>\n",
       "      <td>3.428</td>\n",
       "      <td>1.462</td>\n",
       "      <td>0.246</td>\n",
       "      <td>Setosa</td>\n",
       "    </tr>\n",
       "    <tr>\n",
       "      <th>1</th>\n",
       "      <td>5.936</td>\n",
       "      <td>2.770</td>\n",
       "      <td>4.260</td>\n",
       "      <td>1.326</td>\n",
       "      <td>Versicolor</td>\n",
       "    </tr>\n",
       "    <tr>\n",
       "      <th>2</th>\n",
       "      <td>6.588</td>\n",
       "      <td>2.974</td>\n",
       "      <td>5.552</td>\n",
       "      <td>2.026</td>\n",
       "      <td>Virginica</td>\n",
       "    </tr>\n",
       "  </tbody>\n",
       "</table>\n",
       "</div>"
      ],
      "text/plain": [
       "   Length  Width  Length  Width     Variety\n",
       "0   5.006  3.428   1.462  0.246      Setosa\n",
       "1   5.936  2.770   4.260  1.326  Versicolor\n",
       "2   6.588  2.974   5.552  2.026   Virginica"
      ]
     },
     "execution_count": 13,
     "metadata": {},
     "output_type": "execute_result"
    }
   ],
   "source": [
    "data = [[5.006, 3.428, 1.462, 0.246, 'Setosa'],\n",
    "[5.936, 2.77, 4.26, 1.326, 'Versicolor'],\n",
    "[6.588, 2.974, 5.552, 2.026, 'Virginica']]\n",
    "\n",
    "pd.DataFrame(data=data, columns=['Length', 'Width', 'Length', 'Width', 'Variety'])"
   ]
  },
  {
   "cell_type": "markdown",
   "metadata": {},
   "source": [
    "# SQL like operiations\n",
    "https://pandas.pydata.org/docs/reference/api/pandas.DataFrame.join.html\n",
    "https://pandas.pydata.org/docs/reference/api/pandas.DataFrame.groupby.html\n"
   ]
  },
  {
   "cell_type": "markdown",
   "metadata": {},
   "source": [
    "## Exercise 10\n",
    "\n",
    "Join `df1` and `df2` to produce the same result as `df3`. How would you modify `df4` so that you can join it with `df1` to produce `df3`?"
   ]
  },
  {
   "cell_type": "code",
   "execution_count": 14,
   "metadata": {},
   "outputs": [],
   "source": [
    "df1 = pd.DataFrame({'sepal.length': {'Setosa': 5.005999999999999,\n",
    "  'Versicolor': 5.936,\n",
    "  'Virginica': 6.587999999999998},\n",
    " 'sepal.width': {'Setosa': 3.428000000000001,\n",
    "  'Versicolor': 2.7700000000000005,\n",
    "  'Virginica': 2.9739999999999998}})\n",
    "df2 = pd.DataFrame({'petal.length': {'Setosa': 1.4620000000000002,\n",
    "  'Versicolor': 4.26,\n",
    "  'Virginica': 5.552},\n",
    " 'petal.width': {'Setosa': 0.2459999999999999,\n",
    "  'Versicolor': 1.3259999999999998,\n",
    "  'Virginica': 2.026}})\n",
    "\n",
    "df3 = pd.DataFrame({'sepal.length': {'Setosa': 5.005999999999999,\n",
    "  'Versicolor': 5.936,\n",
    "  'Virginica': 6.587999999999998},\n",
    " 'sepal.width': {'Setosa': 3.428000000000001,\n",
    "  'Versicolor': 2.7700000000000005,\n",
    "  'Virginica': 2.9739999999999998},\n",
    " 'petal.length': {'Setosa': 1.4620000000000002,\n",
    "  'Versicolor': 4.26,\n",
    "  'Virginica': 5.552},\n",
    " 'petal.width': {'Setosa': 0.2459999999999999,\n",
    "  'Versicolor': 1.3259999999999998,\n",
    "  'Virginica': 2.026}})\n",
    "df4 = pd.DataFrame({'petal.length': {0: 1.4620000000000002, 1: 4.26, 2: 5.552},\n",
    " 'petal.width': {0: 0.2459999999999999, 1: 1.3259999999999998, 2: 2.026}})"
   ]
  },
  {
   "cell_type": "code",
   "execution_count": 15,
   "metadata": {},
   "outputs": [
    {
     "name": "stdout",
     "output_type": "stream",
     "text": [
      "            sepal.length  sepal.width\n",
      "Setosa             5.006        3.428\n",
      "Versicolor         5.936        2.770\n",
      "Virginica          6.588        2.974\n",
      "            petal.length  petal.width\n",
      "Setosa             1.462        0.246\n",
      "Versicolor         4.260        1.326\n",
      "Virginica          5.552        2.026\n",
      "            sepal.length  sepal.width  petal.length  petal.width\n",
      "Setosa             5.006        3.428         1.462        0.246\n",
      "Versicolor         5.936        2.770         4.260        1.326\n",
      "Virginica          6.588        2.974         5.552        2.026\n"
     ]
    },
    {
     "data": {
      "text/html": [
       "<div>\n",
       "<style scoped>\n",
       "    .dataframe tbody tr th:only-of-type {\n",
       "        vertical-align: middle;\n",
       "    }\n",
       "\n",
       "    .dataframe tbody tr th {\n",
       "        vertical-align: top;\n",
       "    }\n",
       "\n",
       "    .dataframe thead th {\n",
       "        text-align: right;\n",
       "    }\n",
       "</style>\n",
       "<table border=\"1\" class=\"dataframe\">\n",
       "  <thead>\n",
       "    <tr style=\"text-align: right;\">\n",
       "      <th></th>\n",
       "      <th>sepal.length</th>\n",
       "      <th>sepal.width</th>\n",
       "      <th>petal.length</th>\n",
       "      <th>petal.width</th>\n",
       "    </tr>\n",
       "  </thead>\n",
       "  <tbody>\n",
       "    <tr>\n",
       "      <th>Setosa</th>\n",
       "      <td>5.006</td>\n",
       "      <td>3.428</td>\n",
       "      <td>1.462</td>\n",
       "      <td>0.246</td>\n",
       "    </tr>\n",
       "    <tr>\n",
       "      <th>Versicolor</th>\n",
       "      <td>5.936</td>\n",
       "      <td>2.770</td>\n",
       "      <td>4.260</td>\n",
       "      <td>1.326</td>\n",
       "    </tr>\n",
       "    <tr>\n",
       "      <th>Virginica</th>\n",
       "      <td>6.588</td>\n",
       "      <td>2.974</td>\n",
       "      <td>5.552</td>\n",
       "      <td>2.026</td>\n",
       "    </tr>\n",
       "  </tbody>\n",
       "</table>\n",
       "</div>"
      ],
      "text/plain": [
       "            sepal.length  sepal.width  petal.length  petal.width\n",
       "Setosa             5.006        3.428         1.462        0.246\n",
       "Versicolor         5.936        2.770         4.260        1.326\n",
       "Virginica          6.588        2.974         5.552        2.026"
      ]
     },
     "execution_count": 15,
     "metadata": {},
     "output_type": "execute_result"
    }
   ],
   "source": [
    "print(df1)\n",
    "print(df2)\n",
    "print(df3)\n",
    "df1.join(df2)"
   ]
  },
  {
   "cell_type": "markdown",
   "metadata": {},
   "source": [
    "## Exercise 11*\n",
    "How is `df3` from the previous exercise produced from the `iris` `DataFrame`?"
   ]
  },
  {
   "cell_type": "code",
   "execution_count": 16,
   "metadata": {},
   "outputs": [
    {
     "name": "stdout",
     "output_type": "stream",
     "text": [
      "            sepal.length  sepal.width  petal.length  petal.width\n",
      "Setosa             5.006        3.428         1.462        0.246\n",
      "Versicolor         5.936        2.770         4.260        1.326\n",
      "Virginica          6.588        2.974         5.552        2.026\n"
     ]
    },
    {
     "data": {
      "text/html": [
       "<div>\n",
       "<style scoped>\n",
       "    .dataframe tbody tr th:only-of-type {\n",
       "        vertical-align: middle;\n",
       "    }\n",
       "\n",
       "    .dataframe tbody tr th {\n",
       "        vertical-align: top;\n",
       "    }\n",
       "\n",
       "    .dataframe thead th {\n",
       "        text-align: right;\n",
       "    }\n",
       "</style>\n",
       "<table border=\"1\" class=\"dataframe\">\n",
       "  <thead>\n",
       "    <tr style=\"text-align: right;\">\n",
       "      <th></th>\n",
       "      <th>sepal.length</th>\n",
       "      <th>sepal.width</th>\n",
       "      <th>petal.length</th>\n",
       "      <th>petal.width</th>\n",
       "    </tr>\n",
       "    <tr>\n",
       "      <th>variety</th>\n",
       "      <th></th>\n",
       "      <th></th>\n",
       "      <th></th>\n",
       "      <th></th>\n",
       "    </tr>\n",
       "  </thead>\n",
       "  <tbody>\n",
       "    <tr>\n",
       "      <th>Setosa</th>\n",
       "      <td>5.006</td>\n",
       "      <td>3.428</td>\n",
       "      <td>1.462</td>\n",
       "      <td>0.246</td>\n",
       "    </tr>\n",
       "    <tr>\n",
       "      <th>Versicolor</th>\n",
       "      <td>5.936</td>\n",
       "      <td>2.770</td>\n",
       "      <td>4.260</td>\n",
       "      <td>1.326</td>\n",
       "    </tr>\n",
       "    <tr>\n",
       "      <th>Virginica</th>\n",
       "      <td>6.588</td>\n",
       "      <td>2.974</td>\n",
       "      <td>5.552</td>\n",
       "      <td>2.026</td>\n",
       "    </tr>\n",
       "  </tbody>\n",
       "</table>\n",
       "</div>"
      ],
      "text/plain": [
       "            sepal.length  sepal.width  petal.length  petal.width\n",
       "variety                                                         \n",
       "Setosa             5.006        3.428         1.462        0.246\n",
       "Versicolor         5.936        2.770         4.260        1.326\n",
       "Virginica          6.588        2.974         5.552        2.026"
      ]
     },
     "execution_count": 16,
     "metadata": {},
     "output_type": "execute_result"
    }
   ],
   "source": [
    "print(df3)\n",
    "iris.groupby(['variety']).mean()"
   ]
  },
  {
   "cell_type": "markdown",
   "metadata": {},
   "source": [
    "## Exercise 12\n",
    "Join the `dd1` and `dd2` `DataFrame`s using `variety` column.  "
   ]
  },
  {
   "cell_type": "code",
   "execution_count": 17,
   "metadata": {},
   "outputs": [
    {
     "name": "stdout",
     "output_type": "stream",
     "text": [
      "   sepal.length  sepal.width     variety\n",
      "0         5.006        3.428      Setosa\n",
      "1         5.936        2.770  Versicolor\n",
      "2         6.588        2.974   Virginica\n",
      "   petal.length  petal.width     variety\n",
      "0         1.462        0.246      Setosa\n",
      "1         4.260        1.326  Versicolor\n",
      "2         5.552        2.026   Virginica\n"
     ]
    },
    {
     "data": {
      "text/html": [
       "<div>\n",
       "<style scoped>\n",
       "    .dataframe tbody tr th:only-of-type {\n",
       "        vertical-align: middle;\n",
       "    }\n",
       "\n",
       "    .dataframe tbody tr th {\n",
       "        vertical-align: top;\n",
       "    }\n",
       "\n",
       "    .dataframe thead th {\n",
       "        text-align: right;\n",
       "    }\n",
       "</style>\n",
       "<table border=\"1\" class=\"dataframe\">\n",
       "  <thead>\n",
       "    <tr style=\"text-align: right;\">\n",
       "      <th></th>\n",
       "      <th>sepal.length_x</th>\n",
       "      <th>sepal.width_x</th>\n",
       "      <th>sepal.length_y</th>\n",
       "      <th>sepal.width_y</th>\n",
       "    </tr>\n",
       "    <tr>\n",
       "      <th>variety</th>\n",
       "      <th></th>\n",
       "      <th></th>\n",
       "      <th></th>\n",
       "      <th></th>\n",
       "    </tr>\n",
       "  </thead>\n",
       "  <tbody>\n",
       "    <tr>\n",
       "      <th>Setosa</th>\n",
       "      <td>5.006</td>\n",
       "      <td>3.428</td>\n",
       "      <td>5.006</td>\n",
       "      <td>3.428</td>\n",
       "    </tr>\n",
       "    <tr>\n",
       "      <th>Versicolor</th>\n",
       "      <td>5.936</td>\n",
       "      <td>2.770</td>\n",
       "      <td>5.936</td>\n",
       "      <td>2.770</td>\n",
       "    </tr>\n",
       "    <tr>\n",
       "      <th>Virginica</th>\n",
       "      <td>6.588</td>\n",
       "      <td>2.974</td>\n",
       "      <td>6.588</td>\n",
       "      <td>2.974</td>\n",
       "    </tr>\n",
       "  </tbody>\n",
       "</table>\n",
       "</div>"
      ],
      "text/plain": [
       "            sepal.length_x  sepal.width_x  sepal.length_y  sepal.width_y\n",
       "variety                                                                 \n",
       "Setosa               5.006          3.428           5.006          3.428\n",
       "Versicolor           5.936          2.770           5.936          2.770\n",
       "Virginica            6.588          2.974           6.588          2.974"
      ]
     },
     "execution_count": 17,
     "metadata": {},
     "output_type": "execute_result"
    }
   ],
   "source": [
    "dd1 = pd.DataFrame({'sepal.length': {0: 5.005999999999999, 1: 5.936, 2: 6.587999999999998},\n",
    " 'sepal.width': {0: 3.428000000000001,\n",
    "  1: 2.7700000000000005,\n",
    "  2: 2.9739999999999998},\n",
    " 'variety': {0: 'Setosa', 1: 'Versicolor', 2: 'Virginica'}})\n",
    "\n",
    "dd2 = pd.DataFrame({'petal.length': {0: 1.4620000000000002, 1: 4.26, 2: 5.552},\n",
    " 'petal.width': {0: 0.2459999999999999, 1: 1.3259999999999998, 2: 2.026},\n",
    " 'variety': {0: 'Setosa', 1: 'Versicolor', 2: 'Virginica'}})\n",
    "\n",
    "print(dd1)\n",
    "print(dd2)\n",
    "dd1.merge(dd1, left_on='variety', right_on='variety').set_index('variety')"
   ]
  },
  {
   "cell_type": "markdown",
   "metadata": {},
   "source": [
    "# Time data aggregation\n",
    "\n",
    "https://pandas.pydata.org/pandas-docs/stable/reference/api/pandas.pivot_table.html\n"
   ]
  },
  {
   "cell_type": "markdown",
   "metadata": {},
   "source": [
    "## Exercise 13*\n",
    "`data/book_extract.csv` file consists of records regarding financial performance of dealers. Prepare a report which explicates financial performance of dealers eligible for a payable bonus based on net result (`income-(clawback+opex)`) for each calendar month, given that opex/income ratio does not exceed 15%.\n",
    "\n",
    "Report should have tabular form, rows indicating bonus basis for each month with at least one eligible dealer, columns indicating all dealers."
   ]
  },
  {
   "cell_type": "code",
   "execution_count": 139,
   "metadata": {},
   "outputs": [
    {
     "data": {
      "text/html": [
       "<div>\n",
       "<style scoped>\n",
       "    .dataframe tbody tr th:only-of-type {\n",
       "        vertical-align: middle;\n",
       "    }\n",
       "\n",
       "    .dataframe tbody tr th {\n",
       "        vertical-align: top;\n",
       "    }\n",
       "\n",
       "    .dataframe thead th {\n",
       "        text-align: right;\n",
       "    }\n",
       "</style>\n",
       "<table border=\"1\" class=\"dataframe\">\n",
       "  <thead>\n",
       "    <tr style=\"text-align: right;\">\n",
       "      <th></th>\n",
       "      <th>Grady Kearney</th>\n",
       "      <th>Frazer Bone</th>\n",
       "      <th>Iyla Tate</th>\n",
       "      <th>Havin Cope</th>\n",
       "      <th>Marie Pugh</th>\n",
       "    </tr>\n",
       "  </thead>\n",
       "  <tbody>\n",
       "    <tr>\n",
       "      <th>1</th>\n",
       "      <td>2760.968325</td>\n",
       "      <td>0</td>\n",
       "      <td>0.000000</td>\n",
       "      <td>0.000000</td>\n",
       "      <td>162.245081</td>\n",
       "    </tr>\n",
       "    <tr>\n",
       "      <th>3</th>\n",
       "      <td>2565.874185</td>\n",
       "      <td>0</td>\n",
       "      <td>0.000000</td>\n",
       "      <td>2963.592576</td>\n",
       "      <td>2990.475487</td>\n",
       "    </tr>\n",
       "    <tr>\n",
       "      <th>4</th>\n",
       "      <td>2506.448337</td>\n",
       "      <td>0</td>\n",
       "      <td>710.487994</td>\n",
       "      <td>0.000000</td>\n",
       "      <td>0.000000</td>\n",
       "    </tr>\n",
       "    <tr>\n",
       "      <th>6</th>\n",
       "      <td>0.000000</td>\n",
       "      <td>0</td>\n",
       "      <td>0.000000</td>\n",
       "      <td>0.000000</td>\n",
       "      <td>1875.947865</td>\n",
       "    </tr>\n",
       "    <tr>\n",
       "      <th>11</th>\n",
       "      <td>0.000000</td>\n",
       "      <td>0</td>\n",
       "      <td>3328.786816</td>\n",
       "      <td>0.000000</td>\n",
       "      <td>0.000000</td>\n",
       "    </tr>\n",
       "    <tr>\n",
       "      <th>12</th>\n",
       "      <td>0.000000</td>\n",
       "      <td>0</td>\n",
       "      <td>844.858462</td>\n",
       "      <td>0.000000</td>\n",
       "      <td>0.000000</td>\n",
       "    </tr>\n",
       "  </tbody>\n",
       "</table>\n",
       "</div>"
      ],
      "text/plain": [
       "    Grady Kearney  Frazer Bone    Iyla Tate   Havin Cope   Marie Pugh\n",
       "1     2760.968325            0     0.000000     0.000000   162.245081\n",
       "3     2565.874185            0     0.000000  2963.592576  2990.475487\n",
       "4     2506.448337            0   710.487994     0.000000     0.000000\n",
       "6        0.000000            0     0.000000     0.000000  1875.947865\n",
       "11       0.000000            0  3328.786816     0.000000     0.000000\n",
       "12       0.000000            0   844.858462     0.000000     0.000000"
      ]
     },
     "execution_count": 139,
     "metadata": {},
     "output_type": "execute_result"
    }
   ],
   "source": [
    "df = pd.read_csv('data/book_extract.csv').iloc[:,1:5]\n",
    "df['date'] = pd.DatetimeIndex(df['date']).month\n",
    "df.columns = ['month' if name == 'date' else name for name in df.columns]\n",
    "\n",
    "names = set(df['name'].tolist())\n",
    "bonuses = {}\n",
    "for name in names:\n",
    "    bonuses[name] = {}\n",
    "    for m in range(12):\n",
    "        bonuses[name][m+1] = {'income': 0, 'clawback' : 0, 'opex' : 0}\n",
    "res = df.groupby(['name', 'month', 'operation type']).sum()\n",
    "\n",
    "for i in range(res.shape[0]):\n",
    "    name, mo, tr_type = res.iloc[i].name\n",
    "    val = res.iloc[i]\n",
    "    bonuses[name][mo][tr_type] += float(val)\n",
    "\n",
    "for nam in names:\n",
    "    for m in range(1,12 + 1):\n",
    "        bonus_value = bonuses[nam][m]['income'] - bonuses[nam][m]['clawback'] - bonuses[nam][m]['opex']\n",
    "        bonus_value = 0 if bonus_value < 0 or bonuses[nam][m]['income'] == 0 or bonuses[nam][m]['opex'] / bonuses[nam][m]['income'] > 0.15 else bonus_value\n",
    "        bonuses[nam][m] = bonus_value\n",
    "\n",
    "# Only months with any bonuses\n",
    "for m in range(1,12 + 1):\n",
    "    max_bonus = 0\n",
    "    for nam in names:\n",
    "        max_bonus = max(max_bonus, bonuses[nam][m])\n",
    "    if max_bonus == 0:\n",
    "        for nam in names:\n",
    "            del bonuses[nam][m]\n",
    "\n",
    "bonusdf = pd.DataFrame(bonuses)\n",
    "bonusdf\n"
   ]
  },
  {
   "cell_type": "code",
   "execution_count": null,
   "metadata": {},
   "outputs": [],
   "source": []
  },
  {
   "cell_type": "code",
   "execution_count": null,
   "metadata": {},
   "outputs": [],
   "source": []
  }
 ],
 "metadata": {
  "kernelspec": {
   "display_name": "Python 3 (ipykernel)",
   "language": "python",
   "name": "python3"
  },
  "language_info": {
   "codemirror_mode": {
    "name": "ipython",
    "version": 3
   },
   "file_extension": ".py",
   "mimetype": "text/x-python",
   "name": "python",
   "nbconvert_exporter": "python",
   "pygments_lexer": "ipython3",
   "version": "3.10.8"
  }
 },
 "nbformat": 4,
 "nbformat_minor": 1
}
